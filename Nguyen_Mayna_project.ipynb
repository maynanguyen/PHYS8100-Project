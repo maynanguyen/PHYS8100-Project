{
 "cells": [
  {
   "cell_type": "code",
   "execution_count": 1,
   "id": "annual-brown",
   "metadata": {},
   "outputs": [],
   "source": [
    "import torch\n",
    "from torch import nn\n",
    "from torch.autograd import Variable\n",
    "import numpy as np\n",
    "import pandas as pd\n",
    "import matplotlib.pyplot as plt\n",
    "from sklearn.model_selection import train_test_split\n",
    "from sklearn.metrics import accuracy_score\n",
    "import torch.optim as optim\n",
    "\n",
    "import torchvision\n",
    "import torchvision.transforms as transforms\n",
    "\n",
    "from torch.utils.data import DataLoader\n",
    "from torch.utils.data.dataset import Dataset\n",
    "\n",
    "import matplotlib.pyplot as plt"
   ]
  },
  {
   "cell_type": "markdown",
   "id": "behind-hartford",
   "metadata": {},
   "source": [
    "# Load data"
   ]
  },
  {
   "cell_type": "code",
   "execution_count": 2,
   "id": "polar-innocent",
   "metadata": {},
   "outputs": [],
   "source": [
    "train = pd.read_csv(\"6WL_DRS_Noise_Train_70.csv\") \n",
    "test = pd.read_csv(\"6WL_DRS_Noise_Test_30.csv\")\n",
    "\n",
    "# Separate into x = wavelength data, y = parameter\n",
    "# TRAIN\n",
    "train_wavelengths = train[[\"w1\", \"w2\", \"w3\", \"w4\", \"w5\", \"w6\"]].to_numpy()\n",
    "BVF_train = train[\"BVF\"].to_numpy()\n",
    "musp_train = train[\"musp\"].to_numpy()\n",
    "B_train = train[\"B\"].to_numpy()\n",
    "Mel_train = train[\"Mel\"].to_numpy()\n",
    "O2_train = train[\"O2\"].to_numpy()\n",
    "#print(type(train_wavelengths))\n",
    "\n",
    "# TEST\n",
    "test_wavelengths = test[[\"w1\", \"w2\", \"w3\", \"w4\", \"w5\", \"w6\"]].to_numpy()\n",
    "BVF_test = test[\"BVF\"].to_numpy()\n",
    "musp_test = test[\"musp\"].to_numpy()\n",
    "B_test = test[\"B\"].to_numpy()\n",
    "Mel_test = test[\"Mel\"].to_numpy()\n",
    "O2_test = test[\"O2\"].to_numpy()"
   ]
  },
  {
   "cell_type": "code",
   "execution_count": 3,
   "id": "outdoor-madagascar",
   "metadata": {},
   "outputs": [],
   "source": [
    "def MAPE(actual, pred):\n",
    "    actual, pred = np.array(actual), np.array(pred)\n",
    "    return np.mean(np.abs((actual - pred) / actual)) * 100\n",
    "def MAE(actual,pred):\n",
    "    actual, pred = np.array(actual), np.array(pred)\n",
    "    return np.mean(np.abs(actual - pred)) "
   ]
  },
  {
   "cell_type": "markdown",
   "id": "alive-entry",
   "metadata": {},
   "source": [
    "## Random Forest"
   ]
  },
  {
   "cell_type": "code",
   "execution_count": 42,
   "id": "surprised-concept",
   "metadata": {},
   "outputs": [],
   "source": [
    "from sklearn.ensemble import RandomForestRegressor"
   ]
  },
  {
   "cell_type": "code",
   "execution_count": 47,
   "id": "commercial-grave",
   "metadata": {},
   "outputs": [
    {
     "name": "stdout",
     "output_type": "stream",
     "text": [
      "Mean absolute percent error: 2.757457998833921\n",
      "Mean absolute error: 0.09186466929289644\n"
     ]
    }
   ],
   "source": [
    "### BVF ###\n",
    "# fit model\n",
    "X = train_wavelengths # same training wavelengths for all models\n",
    "BVFregr = RandomForestRegressor(n_estimators=50, max_depth=20, min_samples_split=2, random_state=0)\n",
    "BVFregr.fit(X, BVF_train)\n",
    "\n",
    "# run\n",
    "BVF_pred = BVFregr.predict(test_wavelengths)\n",
    "MAPE_BVF = MAPE(BVF_test, BVF_pred)\n",
    "MAE_BVF = MAE(BVF_test, BVF_pred)\n",
    "print(\"Mean absolute percent error:\", MAPE_BVF)\n",
    "print(\"Mean absolute error:\", MAE_BVF)"
   ]
  },
  {
   "cell_type": "code",
   "execution_count": 44,
   "id": "coordinated-monitor",
   "metadata": {},
   "outputs": [
    {
     "name": "stdout",
     "output_type": "stream",
     "text": [
      "Mean absolute percent error: 4.979418443956456\n",
      "Mean absolute error: 0.9700022590161562\n"
     ]
    }
   ],
   "source": [
    "### musp ###\n",
    "# fit model\n",
    "X = train_wavelengths # same training wavelengths for all models\n",
    "musp_regr = RandomForestRegressor(n_estimators=50, max_depth=20, min_samples_split=2, random_state=0)\n",
    "musp_regr.fit(X, musp_train)\n",
    "\n",
    "# run\n",
    "musp_pred = musp_regr.predict(test_wavelengths)\n",
    "MAPE_musp = MAPE(musp_test, musp_pred)\n",
    "MAE_musp = MAE(musp_test, musp_pred)\n",
    "print(\"Mean absolute percent error:\", MAPE_musp)\n",
    "print(\"Mean absolute error:\", MAE_musp)"
   ]
  },
  {
   "cell_type": "code",
   "execution_count": 45,
   "id": "corrected-ratio",
   "metadata": {},
   "outputs": [
    {
     "name": "stdout",
     "output_type": "stream",
     "text": [
      "Mean absolute percent error: 8.752968152111835\n",
      "Mean absolute error: 0.15839366233411212\n"
     ]
    }
   ],
   "source": [
    "### B ###\n",
    "# fit model\n",
    "X = train_wavelengths # same training wavelengths for all models\n",
    "Bregr = RandomForestRegressor(n_estimators=50, max_depth=20, min_samples_split=2, random_state=0)\n",
    "Bregr.fit(X, B_train)\n",
    "\n",
    "# run\n",
    "B_pred = Bregr.predict(test_wavelengths)\n",
    "MAPE_B = MAPE(B_test, B_pred)\n",
    "MAE_B = MAE(B_test, B_pred)\n",
    "print(\"Mean absolute percent error:\", MAPE_B)\n",
    "print(\"Mean absolute error:\", MAE_B)"
   ]
  },
  {
   "cell_type": "code",
   "execution_count": 46,
   "id": "objective-credit",
   "metadata": {},
   "outputs": [
    {
     "name": "stdout",
     "output_type": "stream",
     "text": [
      "Mean absolute percent error: 4.829866042875651\n",
      "Mean absolute error: 0.04367749635524767\n"
     ]
    }
   ],
   "source": [
    "### Mel ###\n",
    "# fit model\n",
    "X = train_wavelengths # same training wavelengths for all models\n",
    "Melregr = RandomForestRegressor(n_estimators=50, max_depth=20, min_samples_split=2, random_state=0)\n",
    "Melregr.fit(X, Mel_train)\n",
    "\n",
    "# run\n",
    "Mel_pred = Melregr.predict(test_wavelengths)\n",
    "Mel_pred_new = np.delete(Mel_pred, np.where(Mel_test == 0))\n",
    "Mel_test_new = np.delete(Mel_test, np.where(Mel_test == 0))\n",
    "MAPE_Mel = MAPE(Mel_test_new, Mel_pred_new)\n",
    "MAE_Mel = MAE(Mel_test, Mel_pred)\n",
    "print(\"Mean absolute percent error:\", MAPE_Mel)\n",
    "print(\"Mean absolute error:\", MAE_Mel)"
   ]
  },
  {
   "cell_type": "code",
   "execution_count": 28,
   "id": "together-dodge",
   "metadata": {},
   "outputs": [
    {
     "name": "stdout",
     "output_type": "stream",
     "text": [
      "Mean absolute percent error: 8.36843465741302\n",
      "Mean absolute error: 6.396273586803754\n"
     ]
    }
   ],
   "source": [
    "### O2 ###\n",
    "# fit model\n",
    "X = train_wavelengths # same training wavelengths for all models\n",
    "O2regr = RandomForestRegressor(n_estimators=50, max_depth=20, min_samples_split=2, random_state=0)\n",
    "O2regr.fit(X, O2_train)\n",
    "\n",
    "# run\n",
    "O2_pred = O2regr.predict(test_wavelengths)\n",
    "MAPE_O2 = MAPE(O2_test, O2_pred)\n",
    "MAE_O2 = MAE(O2_test, O2_pred)\n",
    "print(\"Mean absolute percent error:\", MAPE_O2)\n",
    "print(\"Mean absolute error:\", MAE_O2)"
   ]
  },
  {
   "cell_type": "code",
   "execution_count": null,
   "id": "individual-bunch",
   "metadata": {},
   "outputs": [],
   "source": [
    "# Store RF variables\n",
    "RF_MAPE_BVF = MAPE_BVF\n",
    "RF_MAE_BVF = MAE_BVF\n",
    "RF_MAPE_musp = MAPE_musp\n",
    "RF_MAE_musp = MAE_musp\n",
    "RF_MAPE_B = MAPE_B\n",
    "RF_MAE_B = MAE_B\n",
    "RF_MAPE_Mel = MAPE_Mel\n",
    "RF_MAE_Mel = MAE_Mel\n",
    "RF_MAPE_O2 = MAPE_O2\n",
    "RF_MAE_O2 = MAE_O2"
   ]
  },
  {
   "cell_type": "markdown",
   "id": "dimensional-hardwood",
   "metadata": {},
   "source": [
    "# Gradient Boosting Machine (GBM)"
   ]
  },
  {
   "cell_type": "code",
   "execution_count": 45,
   "id": "international-moscow",
   "metadata": {},
   "outputs": [],
   "source": [
    "from sklearn.ensemble import GradientBoostingRegressor"
   ]
  },
  {
   "cell_type": "code",
   "execution_count": 46,
   "id": "colonial-curve",
   "metadata": {},
   "outputs": [
    {
     "name": "stdout",
     "output_type": "stream",
     "text": [
      "Mean absolute percent error: 8.798187655849686\n",
      "Mean absolute error: 0.23073591124567153\n"
     ]
    }
   ],
   "source": [
    "### BVF ###\n",
    "# fit model\n",
    "X = train_wavelengths # same training wavelengths for all models\n",
    "BVFregr = GradientBoostingRegressor(learning_rate=0.1, n_estimators=100, min_samples_split=2, max_depth=3, random_state=0)\n",
    "BVFregr.fit(X, BVF_train)\n",
    "\n",
    "# rum\n",
    "BVF_pred = BVFregr.predict(test_wavelengths)\n",
    "MAPE_BVF = MAPE(BVF_test, BVF_pred)\n",
    "MAE_BVF = MAE(BVF_test, BVF_pred)\n",
    "print(\"Mean absolute percent error:\", MAPE_BVF)\n",
    "print(\"Mean absolute error:\", MAE_BVF)"
   ]
  },
  {
   "cell_type": "code",
   "execution_count": 47,
   "id": "trying-gothic",
   "metadata": {},
   "outputs": [
    {
     "name": "stdout",
     "output_type": "stream",
     "text": [
      "Mean absolute percent error: 13.747719273293956\n",
      "Mean absolute error: 2.5403007233657524\n"
     ]
    }
   ],
   "source": [
    "### musp ###\n",
    "# fit model\n",
    "X = train_wavelengths # same training wavelengths for all models\n",
    "musp_regr = GradientBoostingRegressor(learning_rate=0.1, n_estimators=100, min_samples_split=2, max_depth=3, random_state=0)\n",
    "musp_regr.fit(X, musp_train)\n",
    "\n",
    "# rum\n",
    "musp_pred = musp_regr.predict(test_wavelengths)\n",
    "MAPE_musp = MAPE(musp_test, musp_pred)\n",
    "MAE_musp = MAE(musp_test, musp_pred)\n",
    "print(\"Mean absolute percent error:\", MAPE_musp)\n",
    "print(\"Mean absolute error:\", MAE_musp)"
   ]
  },
  {
   "cell_type": "code",
   "execution_count": 48,
   "id": "least-prairie",
   "metadata": {},
   "outputs": [
    {
     "name": "stdout",
     "output_type": "stream",
     "text": [
      "Mean absolute percent error: 13.937186151233094\n",
      "Mean absolute error: 0.2503895011999261\n"
     ]
    }
   ],
   "source": [
    "### B ###\n",
    "# fit model\n",
    "X = train_wavelengths # same training wavelengths for all models\n",
    "Bregr = GradientBoostingRegressor(learning_rate=0.1, n_estimators=100, min_samples_split=2, max_depth=3, random_state=0)\n",
    "Bregr.fit(X, B_train)\n",
    "\n",
    "# run\n",
    "B_pred = Bregr.predict(test_wavelengths)\n",
    "MAPE_B = MAPE(B_test, B_pred)\n",
    "MAE_B = MAE(B_test, B_pred)\n",
    "print(\"Mean absolute percent error:\", MAPE_B)\n",
    "print(\"Mean absolute error:\", MAE_B)"
   ]
  },
  {
   "cell_type": "code",
   "execution_count": 49,
   "id": "remarkable-atmosphere",
   "metadata": {},
   "outputs": [
    {
     "name": "stdout",
     "output_type": "stream",
     "text": [
      "Mean absolute percent error: 14.360070007917905\n",
      "Mean absolute error: 0.11852515346540773\n"
     ]
    }
   ],
   "source": [
    "### Mel ###\n",
    "# fit model\n",
    "X = train_wavelengths # same training wavelengths for all models\n",
    "Melregr = GradientBoostingRegressor(learning_rate=0.1, n_estimators=100, min_samples_split=2, max_depth=3, random_state=0)\n",
    "Melregr.fit(X, Mel_train)\n",
    "\n",
    "# run\n",
    "Mel_pred = Melregr.predict(test_wavelengths)\n",
    "Mel_pred_new = np.delete(Mel_pred, np.where(Mel_test == 0))\n",
    "Mel_test_new = np.delete(Mel_test, np.where(Mel_test == 0))\n",
    "MAPE_Mel = MAPE(Mel_test_new, Mel_pred_new)\n",
    "MAE_Mel = MAE(Mel_test, Mel_pred)\n",
    "print(\"Mean absolute percent error:\", MAPE_Mel)\n",
    "print(\"Mean absolute error:\", MAE_Mel)"
   ]
  },
  {
   "cell_type": "code",
   "execution_count": 50,
   "id": "physical-rubber",
   "metadata": {},
   "outputs": [
    {
     "name": "stdout",
     "output_type": "stream",
     "text": [
      "Mean absolute percent error: 12.978375810684087\n",
      "Mean absolute error: 9.967800064512389\n"
     ]
    }
   ],
   "source": [
    "### O2 ###\n",
    "# fit model\n",
    "X = train_wavelengths # same training wavelengths for all models\n",
    "O2regr = GradientBoostingRegressor(learning_rate=0.1, n_estimators=100, min_samples_split=2, max_depth=3, random_state=0)\n",
    "O2regr.fit(X, O2_train)\n",
    "\n",
    "# run\n",
    "O2_pred = O2regr.predict(test_wavelengths)\n",
    "MAPE_O2 = MAPE(O2_test, O2_pred)\n",
    "MAE_O2 = MAE(O2_test, O2_pred)\n",
    "print(\"Mean absolute percent error:\", MAPE_O2)\n",
    "print(\"Mean absolute error:\", MAE_O2)"
   ]
  },
  {
   "cell_type": "code",
   "execution_count": null,
   "id": "failing-share",
   "metadata": {},
   "outputs": [],
   "source": [
    "# Store GBM variables\n",
    "GBM_MAPE_BVF = MAPE_BVF\n",
    "GBM_MAE_BVF = MAE_BVF\n",
    "GBM_MAPE_musp = MAPE_musp\n",
    "GBM_MAE_musp = MAE_musp\n",
    "GBM_MAPE_B = MAPE_B\n",
    "GBM_MAE_B = MAE_B\n",
    "GBM_MAPE_Mel = MAPE_Mel\n",
    "GBM_MAE_Mel = MAE_Mel\n",
    "GBM_MAPE_O2 = MAPE_O2\n",
    "GBM_MAE_O2 = MAE_O2"
   ]
  },
  {
   "cell_type": "markdown",
   "id": "ideal-interface",
   "metadata": {},
   "source": [
    "# Generalized Linear Model (GLM)"
   ]
  },
  {
   "cell_type": "code",
   "execution_count": 37,
   "id": "southern-screen",
   "metadata": {},
   "outputs": [],
   "source": [
    "from sklearn.linear_model import TweedieRegressor"
   ]
  },
  {
   "cell_type": "code",
   "execution_count": 38,
   "id": "quiet-marble",
   "metadata": {
    "scrolled": true
   },
   "outputs": [
    {
     "name": "stdout",
     "output_type": "stream",
     "text": [
      "Mean absolute percent error: 25.36024815584326\n",
      "Mean absolute error: 0.5347176359116139\n"
     ]
    }
   ],
   "source": [
    "X = train_wavelengths\n",
    "BVFregr = TweedieRegressor(power=0, alpha=0.5, link='log')\n",
    "BVFregr.fit(X, BVF_train)\n",
    "\n",
    "# run\n",
    "BVF_pred = BVFregr.predict(test_wavelengths)\n",
    "MAPE_BVF = MAPE(BVF_test, BVF_pred)\n",
    "MAE_BVF = MAE(BVF_test, BVF_pred)\n",
    "print(\"Mean absolute percent error:\", MAPE_BVF)\n",
    "print(\"Mean absolute error:\", MAE_BVF)"
   ]
  },
  {
   "cell_type": "code",
   "execution_count": 44,
   "id": "appreciated-productivity",
   "metadata": {},
   "outputs": [
    {
     "name": "stdout",
     "output_type": "stream",
     "text": [
      "Mean absolute percent error: 18.098119578169445\n",
      "Mean absolute error: 3.2384660569497945\n"
     ]
    }
   ],
   "source": [
    "X = train_wavelengths\n",
    "musp_regr = TweedieRegressor(power=0, alpha=0.1, link='log')\n",
    "musp_regr.fit(X, musp_train)\n",
    "\n",
    "# run\n",
    "musp_pred = musp_regr.predict(test_wavelengths)\n",
    "MAPE_musp = MAPE(musp_test, musp_pred)\n",
    "MAE_musp = MAE(musp_test, musp_pred)\n",
    "print(\"Mean absolute percent error:\", MAPE_musp)\n",
    "print(\"Mean absolute error:\", MAE_musp)"
   ]
  },
  {
   "cell_type": "code",
   "execution_count": 41,
   "id": "liquid-rouge",
   "metadata": {},
   "outputs": [
    {
     "name": "stdout",
     "output_type": "stream",
     "text": [
      "Mean absolute percent error: 18.330494697454995\n",
      "Mean absolute error: 0.3274324350279938\n"
     ]
    }
   ],
   "source": [
    "X = train_wavelengths\n",
    "Bregr = TweedieRegressor(power=0, alpha=0.5, link='log')\n",
    "Bregr.fit(X, B_train)\n",
    "\n",
    "# run\n",
    "B_pred = Bregr.predict(test_wavelengths)\n",
    "MAPE_B = MAPE(B_test, B_pred)\n",
    "MAE_B = MAE(B_test, B_pred)\n",
    "print(\"Mean absolute percent error:\", MAPE_B)\n",
    "print(\"Mean absolute error:\", MAE_B)"
   ]
  },
  {
   "cell_type": "code",
   "execution_count": 42,
   "id": "dangerous-english",
   "metadata": {},
   "outputs": [
    {
     "name": "stdout",
     "output_type": "stream",
     "text": [
      "Mean absolute percent error: 39.724668373783096\n",
      "Mean absolute error: 0.28131408782076744\n"
     ]
    }
   ],
   "source": [
    "X = train_wavelengths\n",
    "Melregr = TweedieRegressor(power=0, alpha=0.5, link='log')\n",
    "Melregr.fit(X, Mel_train)\n",
    "\n",
    "# run\n",
    "Mel_pred = Melregr.predict(test_wavelengths)\n",
    "Mel_pred_new = np.delete(Mel_pred, np.where(Mel_test == 0))\n",
    "Mel_test_new = np.delete(Mel_test, np.where(Mel_test == 0))\n",
    "MAPE_Mel = MAPE(Mel_test_new, Mel_pred_new)\n",
    "MAE_Mel = MAE(Mel_test, Mel_pred)\n",
    "print(\"Mean absolute percent error:\", MAPE_Mel)\n",
    "print(\"Mean absolute error:\", MAE_Mel)"
   ]
  },
  {
   "cell_type": "code",
   "execution_count": 43,
   "id": "headed-integer",
   "metadata": {},
   "outputs": [
    {
     "name": "stdout",
     "output_type": "stream",
     "text": [
      "Mean absolute percent error: 9.636429823557325\n",
      "Mean absolute error: 7.443410614965039\n"
     ]
    }
   ],
   "source": [
    "X = train_wavelengths\n",
    "O2regr = TweedieRegressor(power=0, alpha=0.5, link='log')\n",
    "O2regr.fit(X, O2_train)\n",
    "\n",
    "# run\n",
    "O2_pred = O2regr.predict(test_wavelengths)\n",
    "MAPE_O2 = MAPE(O2_test, O2_pred)\n",
    "MAE_O2 = MAE(O2_test, O2_pred)\n",
    "print(\"Mean absolute percent error:\", MAPE_O2)\n",
    "print(\"Mean absolute error:\", MAE_O2)"
   ]
  },
  {
   "cell_type": "code",
   "execution_count": null,
   "id": "upper-night",
   "metadata": {},
   "outputs": [],
   "source": [
    "# Store GLM variables\n",
    "GLM_MAPE_BVF = MAPE_BVF\n",
    "GLM_MAE_BVF = MAE_BVF\n",
    "GLM_MAPE_musp = MAPE_musp\n",
    "GLM_MAE_musp = MAE_musp\n",
    "GLM_MAPE_B = MAPE_B\n",
    "GLM_MAE_B = MAE_B\n",
    "GLM_MAPE_Mel = MAPE_Mel\n",
    "GLM_MAE_Mel = MAE_Mel\n",
    "GLM_MAPE_O2 = MAPE_O2\n",
    "GLM_MAE_O2 = MAE_O2"
   ]
  },
  {
   "cell_type": "markdown",
   "id": "subjective-tooth",
   "metadata": {},
   "source": [
    "## Deep Learning (Neural Network)"
   ]
  },
  {
   "cell_type": "code",
   "execution_count": 4,
   "id": "common-limit",
   "metadata": {},
   "outputs": [],
   "source": [
    "# construct a 2 layer network\n",
    "class Linear_2Hidden(nn.Module):\n",
    "    '''\n",
    "    A simple, general purpose, fully connected network\n",
    "    '''\n",
    "    def __init__(self,width):\n",
    "        # Perform initialization of the pytorch superclass\n",
    "        super(Linear_2Hidden, self).__init__()\n",
    "        \n",
    "        # Define network layer dimensions\n",
    "        D_in, H1, H2, D_out = [6, width, width, 1]    # These numbers correspond to each layer: [input, hidden_1, output]\n",
    "        \n",
    "        # Define layer types\n",
    "        self.linear1 = nn.Linear(D_in, H1)\n",
    "        self.linear2 = nn.Linear(H1, H2)\n",
    "        self.linear3 = nn.Linear(H2, D_out)\n",
    "\n",
    "    def forward(self, x):\n",
    "        '''\n",
    "        This method defines the network layering and activation functions\n",
    "        '''\n",
    "        x = self.linear1(x) # hidden layer\n",
    "        torch.nn.ReLU()       # activation function\n",
    "        \n",
    "        x = self.linear2(x) # hidden layer\n",
    "        torch.nn.ReLU()       # activation function\n",
    "        \n",
    "        x = self.linear3(x) # output layer\n",
    "        \n",
    "        return x"
   ]
  },
  {
   "cell_type": "code",
   "execution_count": 4,
   "id": "charming-equilibrium",
   "metadata": {},
   "outputs": [],
   "source": [
    "def test_batch(model, x, y):\n",
    "    # run forward calculation\n",
    "    y_predict = model.forward(x)\n",
    "\n",
    "    return y, y_predict\n",
    "\n",
    "#####\n",
    "def test(model, test_loader):\n",
    "    y_vectors = list()\n",
    "    y_predict_vectors = list()\n",
    "\n",
    "    batch_index = 0\n",
    "    for x, y in test_loader:\n",
    "        y, y_predict = test_batch(model=model, x=x, y=y)\n",
    "\n",
    "        y_vectors.append(y.data.numpy())\n",
    "        y_predict_vectors.append(y_predict.data.numpy())\n",
    "\n",
    "        batch_index += 1\n",
    "\n",
    "    y_predict_vector = np.concatenate(y_predict_vectors)\n",
    "\n",
    "    return y_predict_vector \n",
    "##### Train on a specific batch of data.\n",
    "def train_batch(model, x, y, optimizer, loss_fn):\n",
    "    # Run forward calculation\n",
    "    y_predict = model.forward(x)\n",
    "\n",
    "    # Compute loss.\n",
    "    y_predict = y_predict.squeeze(1)\n",
    "    loss = loss_fn(y_predict, y)\n",
    "\n",
    "    # Before the backward pass, use the optimizer object to zero all of the\n",
    "    # gradients for the variables it will update (which are the learnable weights\n",
    "    # of the model)\n",
    "    optimizer.zero_grad()\n",
    "\n",
    "    # Backward pass: compute gradient of the loss with respect to model\n",
    "    # parameters\n",
    "    loss.backward()\n",
    "\n",
    "    # Calling the step function on an Optimizer makes an update to its\n",
    "    # parameters\n",
    "    optimizer.step()\n",
    "\n",
    "    return loss.data.item()\n",
    "\n",
    "##### Iterate over epochs and all batches of data\n",
    "def train(model, train_loader , test_loader , optimizer, loss_fn, epochs=5):\n",
    "    losses = list()\n",
    "    losses_test = list()\n",
    "    \n",
    "\n",
    "    batch_index = 0\n",
    "    for e in range(epochs):\n",
    "        for x, y in train_loader:\n",
    "            loss = train_batch(model=model, x=x, y=y, optimizer=optimizer, loss_fn=loss_fn)\n",
    "            losses.append(loss)\n",
    "\n",
    "            batch_index += 1\n",
    "            \n",
    "        for x , y in test_loader:\n",
    "            y_predict = model.forward(x)\n",
    "            losst = loss_fn(y_predict, y)\n",
    "            \n",
    "            losses_test.append(losst.data.item())\n",
    "\n",
    "#         print(\"Epoch: \", e+1)\n",
    "#         print(\"Batches: \", batch_index)\n",
    "\n",
    "    return losses , losses_test\n",
    "\n",
    "def plot_loss(losses_train,loss_test, show=True):\n",
    "    fig = plt.gcf()\n",
    "    fig.set_size_inches(8,6)\n",
    "    ax = plt.axes()\n",
    "    ax.set_xlabel(\"Iteration\")\n",
    "    ax.set_ylabel(\"Loss\")\n",
    "    x_loss = list(range(len(losses)))\n",
    "    plt.plot(x_loss, losses_train)\n",
    "    \n",
    "\n",
    "    a = list(range(len(loss_test)))\n",
    "    const = round(len(losses) / len(loss_test))\n",
    "    b = [(i+1)*const for i in a]\n",
    "    \n",
    "    plt.plot(b,loss_test)\n",
    "\n",
    "    if show:\n",
    "        plt.show()\n",
    "\n",
    "    plt.close()\n",
    "    \n",
    "def run(data_loader_train, data_loader_test , model_to_test , width , weight_decay):\n",
    "    \n",
    "    \n",
    "    # Define the hyperparameters\n",
    "    learning_rate = 1e-3\n",
    "    model = model_to_test(width=width)\n",
    "    \n",
    "    # Initialize the optimizer with above parameters\n",
    "    optimizer = optim.Adam(model.parameters(), lr=learning_rate , weight_decay = weight_decay)\n",
    "\n",
    "    # Define the loss function\n",
    "    loss_fn = nn.MSELoss()  # mean squared error\n",
    "\n",
    "    # Train and get the resulting loss per iteration\n",
    "    loss , loss_test = train(model=model, train_loader=data_loader_train , test_loader = data_loader_test, \n",
    "                 optimizer=optimizer, loss_fn=loss_fn)\n",
    "    \n",
    "    # Test and get the resulting predicted y values\n",
    "    y_predict = test(model=model, test_loader=data_loader_test)\n",
    "\n",
    "    return loss , loss_test , y_predict"
   ]
  },
  {
   "cell_type": "code",
   "execution_count": 5,
   "id": "unlikely-lyric",
   "metadata": {},
   "outputs": [],
   "source": [
    "class dataset(Dataset):\n",
    "    def __init__(self, x, y):\n",
    "        x_dtype = torch.FloatTensor\n",
    "        y_dtype = torch.FloatTensor     # Use float for continuous data\n",
    "\n",
    "        self.length = x.shape[0]\n",
    "\n",
    "        # 1) Extract data from numpy, 2) put it in a tensor, 3) properly data type it.\n",
    "        self.x_data = torch.from_numpy(x).type(x_dtype)\n",
    "        self.y_data = torch.from_numpy(y).type(y_dtype)\n",
    "\n",
    "    # Method for getting an element.\n",
    "    def __getitem__(self, index):\n",
    "        return self.x_data[index], self.y_data[index]\n",
    "\n",
    "    # Method for getting the length of the dataset\n",
    "    def __len__(self):\n",
    "        return self.length"
   ]
  },
  {
   "cell_type": "code",
   "execution_count": 7,
   "id": "protecting-highland",
   "metadata": {},
   "outputs": [],
   "source": [
    "### BVF ###\n",
    "# Recast the training and test data sets into proper pytorch tensors.\n",
    "\n",
    "dataset_train = dataset(x = train_wavelengths, y = BVF_train)\n",
    "dataset_test = dataset(x = test_wavelengths, y = BVF_test)\n",
    "\n",
    "# print(\"Train set size: \", dataset_train.length)\n",
    "# print(\"Test set size: \", dataset_test.length)\n",
    "\n",
    "# Batch size is the number of training examples used to calculate each iteration's gradient\n",
    "batch_size_train = 16\n",
    "\n",
    "# Construct data loader iterables for the training and test data sets.\n",
    "data_loader_train = DataLoader(dataset=dataset_train, batch_size=batch_size_train, shuffle=True)\n",
    "data_loader_test = DataLoader(dataset=dataset_test, batch_size=len(dataset_test), shuffle=False) # No need to batch"
   ]
  },
  {
   "cell_type": "code",
   "execution_count": 8,
   "id": "meaningful-utilization",
   "metadata": {},
   "outputs": [
    {
     "name": "stderr",
     "output_type": "stream",
     "text": [
      "c:\\users\\mayna\\appdata\\local\\programs\\python\\python39\\lib\\site-packages\\torch\\nn\\modules\\loss.py:446: UserWarning: Using a target size (torch.Size([30000])) that is different to the input size (torch.Size([30000, 1])). This will likely lead to incorrect results due to broadcasting. Please ensure they have the same size.\n",
      "  return F.mse_loss(input, target, reduction=self.reduction)\n"
     ]
    },
    {
     "name": "stdout",
     "output_type": "stream",
     "text": [
      "Mean absolute percent error: 24.998028032306667\n",
      "Mean absolute error: 0.547850780984852\n"
     ]
    }
   ],
   "source": [
    "# run\n",
    "losses, loss_test, y_predict = run(data_loader_train=data_loader_train, data_loader_test=data_loader_test ,\n",
    "                        model_to_test = Linear_2Hidden, width = 200 , weight_decay = 0)\n",
    "BVF_pred = y_predict\n",
    "BVF_pred = np.reshape(BVF_pred, 30000)\n",
    "MAPE_BVF = MAPE(BVF_test, BVF_pred)\n",
    "MAE_BVF = MAE(BVF_test, BVF_pred)\n",
    "print(\"Mean absolute percent error:\", MAPE_BVF)\n",
    "print(\"Mean absolute error:\", MAE_BVF)"
   ]
  },
  {
   "cell_type": "code",
   "execution_count": 9,
   "id": "hundred-webcam",
   "metadata": {},
   "outputs": [],
   "source": [
    "### musp ###\n",
    "# Recast the training and test data sets into proper pytorch tensors.\n",
    "\n",
    "dataset_train = dataset(x = train_wavelengths, y = musp_train)\n",
    "dataset_test = dataset(x = test_wavelengths, y = musp_test)\n",
    "\n",
    "\n",
    "# Batch size is the number of training examples used to calculate each iteration's gradient\n",
    "batch_size_train = 16\n",
    "\n",
    "# Construct data loader iterables for the training and test data sets.\n",
    "data_loader_train = DataLoader(dataset=dataset_train, batch_size=batch_size_train, shuffle=True)\n",
    "data_loader_test = DataLoader(dataset=dataset_test, batch_size=len(dataset_test), shuffle=False) # No need to batch\n"
   ]
  },
  {
   "cell_type": "code",
   "execution_count": 10,
   "id": "protected-absence",
   "metadata": {},
   "outputs": [
    {
     "name": "stdout",
     "output_type": "stream",
     "text": [
      "Mean absolute percent error: 19.20854464503055\n",
      "Mean absolute error: 3.341511692750001\n"
     ]
    }
   ],
   "source": [
    "# run\n",
    "losses, loss_test, y_predict = run(data_loader_train=data_loader_train, data_loader_test=data_loader_test ,\n",
    "                        model_to_test = Linear_2Hidden, width = 200 , weight_decay = 0)\n",
    "musp_pred = y_predict\n",
    "musp_pred = np.reshape(musp_pred, 30000)\n",
    "MAPE_musp = MAPE(musp_test, musp_pred)\n",
    "MAE_musp = MAE(musp_test, musp_pred)\n",
    "print(\"Mean absolute percent error:\", MAPE_musp)\n",
    "print(\"Mean absolute error:\", MAE_musp)"
   ]
  },
  {
   "cell_type": "code",
   "execution_count": 11,
   "id": "subtle-ordering",
   "metadata": {},
   "outputs": [],
   "source": [
    "### B ###\n",
    "# Recast the training and test data sets into proper pytorch tensors.\n",
    "\n",
    "dataset_train = dataset(x = train_wavelengths, y = B_train)\n",
    "dataset_test = dataset(x = test_wavelengths, y = B_test)\n",
    "\n",
    "# Batch size is the number of training examples used to calculate each iteration's gradient\n",
    "batch_size_train = 16\n",
    "\n",
    "# Construct data loader iterables for the training and test data sets.\n",
    "data_loader_train = DataLoader(dataset=dataset_train,batch_size=batch_size_train, shuffle=True)\n",
    "data_loader_test = DataLoader(dataset=dataset_test, batch_size=len(dataset_test), shuffle=False) # No need to batch\n"
   ]
  },
  {
   "cell_type": "code",
   "execution_count": 12,
   "id": "numerous-player",
   "metadata": {},
   "outputs": [
    {
     "name": "stdout",
     "output_type": "stream",
     "text": [
      "Mean absolute percent error: 16.88493507743787\n",
      "Mean absolute error: 0.295159564957606\n"
     ]
    }
   ],
   "source": [
    "# run\n",
    "losses, loss_test, y_predict = run(data_loader_train=data_loader_train, data_loader_test=data_loader_test ,\n",
    "                        model_to_test = Linear_2Hidden, width = 200 , weight_decay = 0)\n",
    "B_pred = y_predict\n",
    "B_pred = np.reshape(B_pred, 30000)\n",
    "MAPE_B = MAPE(B_test, B_pred)\n",
    "MAE_B = MAE(B_test, B_pred)\n",
    "print(\"Mean absolute percent error:\", MAPE_B)\n",
    "print(\"Mean absolute error:\", MAE_B)"
   ]
  },
  {
   "cell_type": "code",
   "execution_count": 13,
   "id": "human-crazy",
   "metadata": {},
   "outputs": [],
   "source": [
    "### Mel ###\n",
    "# Recast the training and test data sets into proper pytorch tensors.\n",
    "\n",
    "dataset_train = dataset(x = train_wavelengths, y = Mel_train)\n",
    "dataset_test = dataset(x = test_wavelengths, y = Mel_test)\n",
    "\n",
    "# Batch size is the number of training examples used to calculate each iteration's gradient\n",
    "batch_size_train = 16\n",
    "\n",
    "# Construct data loader iterables for the training and test data sets.\n",
    "data_loader_train = DataLoader(dataset=dataset_train,batch_size=batch_size_train, shuffle=True)\n",
    "data_loader_test = DataLoader(dataset=dataset_test, batch_size=len(dataset_test), shuffle=False) # No need to batch\n"
   ]
  },
  {
   "cell_type": "code",
   "execution_count": 14,
   "id": "usual-transaction",
   "metadata": {},
   "outputs": [
    {
     "name": "stdout",
     "output_type": "stream",
     "text": [
      "Mean absolute percent error: 29.692027421861006\n",
      "Mean absolute error: 0.24098214403008736\n"
     ]
    }
   ],
   "source": [
    "# run\n",
    "losses, loss_test, y_predict = run(data_loader_train=data_loader_train, data_loader_test=data_loader_test ,\n",
    "                        model_to_test = Linear_2Hidden, width = 200 , weight_decay = 0)\n",
    "Mel_pred = y_predict\n",
    "Mel_pred = np.reshape(Mel_pred, 30000)\n",
    "Mel_pred_new = np.delete(Mel_pred, np.where(Mel_test == 0))\n",
    "Mel_test_new = np.delete(Mel_test, np.where(Mel_test == 0))\n",
    "MAPE_Mel = MAPE(Mel_test_new, Mel_pred_new)\n",
    "MAE_Mel = MAE(Mel_test, Mel_pred)\n",
    "print(\"Mean absolute percent error:\", MAPE_Mel)\n",
    "print(\"Mean absolute error:\", MAE_Mel)"
   ]
  },
  {
   "cell_type": "code",
   "execution_count": 15,
   "id": "rocky-context",
   "metadata": {},
   "outputs": [],
   "source": [
    "### O2 ###\n",
    "# Recast the training and test data sets into proper pytorch tensors.\n",
    "\n",
    "dataset_train = dataset(x = train_wavelengths, y = O2_train)\n",
    "dataset_test = dataset(x = test_wavelengths, y = O2_test)\n",
    "\n",
    "# Batch size is the number of training examples used to calculate each iteration's gradient\n",
    "batch_size_train = 16\n",
    "\n",
    "# Construct data loader iterables for the training and test data sets.\n",
    "data_loader_train = DataLoader(dataset=dataset_train,batch_size=batch_size_train, shuffle=True)\n",
    "data_loader_test = DataLoader(dataset=dataset_test, batch_size=len(dataset_test), shuffle=False) # No need to batch\n"
   ]
  },
  {
   "cell_type": "code",
   "execution_count": 16,
   "id": "driven-belize",
   "metadata": {},
   "outputs": [
    {
     "name": "stdout",
     "output_type": "stream",
     "text": [
      "Mean absolute percent error: 9.385084688705486\n",
      "Mean absolute error: 7.262178227614339\n"
     ]
    }
   ],
   "source": [
    "# run\n",
    "losses, loss_test, y_predict = run(data_loader_train=data_loader_train, data_loader_test=data_loader_test ,\n",
    "                        model_to_test = Linear_2Hidden, width = 200 , weight_decay = 0)\n",
    "O2_pred = y_predict\n",
    "O2_pred = np.reshape(O2_pred, 30000)\n",
    "MAPE_O2 = MAPE(O2_test, O2_pred)\n",
    "MAE_O2 = MAE(O2_test, O2_pred)\n",
    "print(\"Mean absolute percent error:\", MAPE_O2)\n",
    "print(\"Mean absolute error:\", MAE_O2)"
   ]
  },
  {
   "cell_type": "code",
   "execution_count": 17,
   "id": "nonprofit-boxing",
   "metadata": {},
   "outputs": [],
   "source": [
    "# Store DL variables\n",
    "DL_MAPE_BVF = MAPE_BVF\n",
    "DL_MAE_BVF = MAE_BVF\n",
    "DL_MAPE_musp = MAPE_musp\n",
    "DL_MAE_musp = MAE_musp\n",
    "DL_MAPE_B = MAPE_B\n",
    "DL_MAE_B = MAE_B\n",
    "DL_MAPE_Mel = MAPE_Mel\n",
    "DL_MAE_Mel = MAE_Mel\n",
    "DL_MAPE_O2 = MAPE_O2\n",
    "DL_MAE_O2 = MAE_O2"
   ]
  },
  {
   "cell_type": "markdown",
   "id": "colonial-medicaid",
   "metadata": {},
   "source": [
    "# Plot figure"
   ]
  },
  {
   "cell_type": "code",
   "execution_count": 91,
   "id": "supported-exception",
   "metadata": {},
   "outputs": [
    {
     "data": {
      "image/png": "[encoded data removed]",
      "text/plain": [
       "<Figure size 432x288 with 1 Axes>"
      ]
     },
     "metadata": {
      "needs_background": "light"
     },
     "output_type": "display_data"
    }
   ],
   "source": [
    "labels = ['BVF', 'musp', 'B', 'Mel', 'O2']\n",
    "DL = [DL_MAE_BVF,DL_MAE_musp,DL_MAE_B,DL_MAE_Mel,DL_MAE_O2]\n",
    "RF = [RF_MAE_BVF,RF_MAE_musp,RF_MAE_B,RF_MAE_Mel,RF_MAE_O2]\n",
    "GBM = [GBM_MAE_BVF,GBM_MAE_musp,GBM_MAE_B,GBM_MAE_Mel,GBM_MAE_O2]\n",
    "GLM = [GLM_MAE_BVF,GLM_MAE_musp,GLM_MAE_B,GLM_MAE_Mel,GLM_MAE_O2]\n",
    "\n",
    "x = np.arange(len(labels))  # the label locations\n",
    "width = 0.35  # the width of the bars\n",
    "\n",
    "fig, ax = plt.subplots()\n",
    "rects1 = ax.bar(x - width, DL, width/2, label='DL')\n",
    "rects2 = ax.bar(x - width/2, RF, width/2, label='RF')\n",
    "rects3 = ax.bar(x , GBM, width/2, label='GBM')\n",
    "rects4 = ax.bar(x + width/2, GLM, width/2, label='GLM')\n",
    "\n",
    "\n",
    "# Add some text for labels, title and custom x-axis tick labels, etc.\n",
    "ax.set_ylabel('Mean absolute error')\n",
    "#ax.set_title('Scores by group and gender')\n",
    "ax.set_xticks(x)\n",
    "ax.set_xticklabels(labels)\n",
    "ax.legend()\n",
    "\n",
    "\n",
    "fig.tight_layout()\n",
    "\n",
    "plt.show()"
   ]
  },
  {
   "cell_type": "markdown",
   "id": "criminal-reform",
   "metadata": {},
   "source": [
    "# Optimize Neural Network"
   ]
  },
  {
   "cell_type": "markdown",
   "id": "tested-policy",
   "metadata": {},
   "source": [
    "Things to try: different activation function, different optimizer, width, 3 layer"
   ]
  },
  {
   "cell_type": "markdown",
   "id": "sophisticated-median",
   "metadata": {},
   "source": [
    "### Activation: tanh"
   ]
  },
  {
   "cell_type": "code",
   "execution_count": 18,
   "id": "included-newport",
   "metadata": {},
   "outputs": [],
   "source": [
    "# construct a 2 layer network\n",
    "class Linear_2Hidden(nn.Module):\n",
    "    '''\n",
    "    A simple, general purpose, fully connected network\n",
    "    '''\n",
    "    def __init__(self,width):\n",
    "        # Perform initialization of the pytorch superclass\n",
    "        super(Linear_2Hidden, self).__init__()\n",
    "        \n",
    "        # Define network layer dimensions\n",
    "        D_in, H1, H2, D_out = [6, width, width, 1]    # These numbers correspond to each layer: [input, hidden_1, output]\n",
    "        \n",
    "        # Define layer types\n",
    "        self.linear1 = nn.Linear(D_in, H1)\n",
    "        self.linear2 = nn.Linear(H1, H2)\n",
    "        self.linear3 = nn.Linear(H2, D_out)\n",
    "\n",
    "    def forward(self, x):\n",
    "        '''\n",
    "        This method defines the network layering and activation functions\n",
    "        '''\n",
    "        x = self.linear1(x) # hidden layer\n",
    "        x = torch.tanh(x)       # activation function\n",
    "        \n",
    "        x = self.linear2(x) # hidden layer\n",
    "        x = torch.tanh(x)       # activation function\n",
    "\n",
    "        x = self.linear3(x) # output layer\n",
    "        \n",
    "        return x"
   ]
  },
  {
   "cell_type": "code",
   "execution_count": 19,
   "id": "technological-sight",
   "metadata": {},
   "outputs": [
    {
     "name": "stdout",
     "output_type": "stream",
     "text": [
      "Mean absolute percent error: 3.7061432031496166\n",
      "Mean absolute error: 0.1064343034960747\n"
     ]
    }
   ],
   "source": [
    "### BVF ###\n",
    "# Recast the training and test data sets into proper pytorch tensors.\n",
    "\n",
    "dataset_train = dataset(x = train_wavelengths, y = BVF_train)\n",
    "dataset_test = dataset(x = test_wavelengths, y = BVF_test)\n",
    "\n",
    "# print(\"Train set size: \", dataset_train.length)\n",
    "# print(\"Test set size: \", dataset_test.length)\n",
    "\n",
    "# Batch size is the number of training examples used to calculate each iteration's gradient\n",
    "batch_size_train = 16\n",
    "\n",
    "# Construct data loader iterables for the training and test data sets.\n",
    "data_loader_train = DataLoader(dataset=dataset_train, batch_size=batch_size_train, shuffle=True)\n",
    "data_loader_test = DataLoader(dataset=dataset_test, batch_size=len(dataset_test), shuffle=False) # No need to batch\n",
    "\n",
    "\n",
    "\n",
    "# run\n",
    "losses, loss_test, y_predict = run(data_loader_train=data_loader_train, data_loader_test=data_loader_test ,\n",
    "                        model_to_test = Linear_2Hidden, width = 200 , weight_decay = 0)\n",
    "BVF_pred = y_predict\n",
    "BVF_pred = np.reshape(BVF_pred, 30000)\n",
    "MAPE_BVF = MAPE(BVF_test, BVF_pred)\n",
    "MAE_BVF = MAE(BVF_test, BVF_pred)\n",
    "print(\"Mean absolute percent error:\", MAPE_BVF)\n",
    "print(\"Mean absolute error:\", MAE_BVF)"
   ]
  },
  {
   "cell_type": "code",
   "execution_count": 20,
   "id": "monetary-minneapolis",
   "metadata": {},
   "outputs": [
    {
     "name": "stdout",
     "output_type": "stream",
     "text": [
      "Mean absolute percent error: 5.9607987631024875\n",
      "Mean absolute error: 1.1034572453063967\n"
     ]
    }
   ],
   "source": [
    "### musp ###\n",
    "# Recast the training and test data sets into proper pytorch tensors.\n",
    "\n",
    "dataset_train = dataset(x = train_wavelengths, y = musp_train)\n",
    "dataset_test = dataset(x = test_wavelengths, y = musp_test)\n",
    "\n",
    "\n",
    "# Batch size is the number of training examples used to calculate each iteration's gradient\n",
    "batch_size_train = 16\n",
    "\n",
    "# Construct data loader iterables for the training and test data sets.\n",
    "data_loader_train = DataLoader(dataset=dataset_train, batch_size=batch_size_train, shuffle=True)\n",
    "data_loader_test = DataLoader(dataset=dataset_test, batch_size=len(dataset_test), shuffle=False) # No need to batch\n",
    "\n",
    "\n",
    "\n",
    "# run\n",
    "losses, loss_test, y_predict = run(data_loader_train=data_loader_train, data_loader_test=data_loader_test ,\n",
    "                        model_to_test = Linear_2Hidden, width = 200 , weight_decay = 0)\n",
    "musp_pred = y_predict\n",
    "musp_pred = np.reshape(musp_pred, 30000)\n",
    "MAPE_musp = MAPE(musp_test, musp_pred)\n",
    "MAE_musp = MAE(musp_test, musp_pred)\n",
    "print(\"Mean absolute percent error:\", MAPE_musp)\n",
    "print(\"Mean absolute error:\", MAE_musp)"
   ]
  },
  {
   "cell_type": "code",
   "execution_count": 21,
   "id": "parallel-particular",
   "metadata": {},
   "outputs": [
    {
     "name": "stdout",
     "output_type": "stream",
     "text": [
      "Mean absolute percent error: 7.521700352357059\n",
      "Mean absolute error: 0.14351435375454583\n"
     ]
    }
   ],
   "source": [
    "### B ###\n",
    "# Recast the training and test data sets into proper pytorch tensors.\n",
    "\n",
    "dataset_train = dataset(x = train_wavelengths, y = B_train)\n",
    "dataset_test = dataset(x = test_wavelengths, y = B_test)\n",
    "\n",
    "# Batch size is the number of training examples used to calculate each iteration's gradient\n",
    "batch_size_train = 16\n",
    "\n",
    "# Construct data loader iterables for the training and test data sets.\n",
    "data_loader_train = DataLoader(dataset=dataset_train,batch_size=batch_size_train, shuffle=True)\n",
    "data_loader_test = DataLoader(dataset=dataset_test, batch_size=len(dataset_test), shuffle=False) # No need to batch\n",
    "\n",
    "# run\n",
    "losses, loss_test, y_predict = run(data_loader_train=data_loader_train, data_loader_test=data_loader_test ,\n",
    "                        model_to_test = Linear_2Hidden, width = 200 , weight_decay = 0)\n",
    "B_pred = y_predict\n",
    "B_pred = np.reshape(B_pred, 30000)\n",
    "MAPE_B = MAPE(B_test, B_pred)\n",
    "MAE_B = MAE(B_test, B_pred)\n",
    "print(\"Mean absolute percent error:\", MAPE_B)\n",
    "print(\"Mean absolute error:\", MAE_B)"
   ]
  },
  {
   "cell_type": "code",
   "execution_count": 22,
   "id": "destroyed-gateway",
   "metadata": {},
   "outputs": [
    {
     "name": "stdout",
     "output_type": "stream",
     "text": [
      "Mean absolute percent error: 9.987058828211394\n",
      "Mean absolute error: 0.06780838378845151\n"
     ]
    }
   ],
   "source": [
    "### Mel ###\n",
    "# Recast the training and test data sets into proper pytorch tensors.\n",
    "\n",
    "dataset_train = dataset(x = train_wavelengths, y = Mel_train)\n",
    "dataset_test = dataset(x = test_wavelengths, y = Mel_test)\n",
    "\n",
    "# Batch size is the number of training examples used to calculate each iteration's gradient\n",
    "batch_size_train = 16\n",
    "\n",
    "# Construct data loader iterables for the training and test data sets.\n",
    "data_loader_train = DataLoader(dataset=dataset_train,batch_size=batch_size_train, shuffle=True)\n",
    "data_loader_test = DataLoader(dataset=dataset_test, batch_size=len(dataset_test), shuffle=False) # No need to batch\n",
    "\n",
    "# run\n",
    "losses, loss_test, y_predict = run(data_loader_train=data_loader_train, data_loader_test=data_loader_test ,\n",
    "                        model_to_test = Linear_2Hidden, width = 200 , weight_decay = 0)\n",
    "Mel_pred = y_predict\n",
    "Mel_pred = np.reshape(Mel_pred, 30000)\n",
    "Mel_pred_new = np.delete(Mel_pred, np.where(Mel_test == 0))\n",
    "Mel_test_new = np.delete(Mel_test, np.where(Mel_test == 0))\n",
    "MAPE_Mel = MAPE(Mel_test_new, Mel_pred_new)\n",
    "MAE_Mel = MAE(Mel_test, Mel_pred)\n",
    "print(\"Mean absolute percent error:\", MAPE_Mel)\n",
    "print(\"Mean absolute error:\", MAE_Mel)"
   ]
  },
  {
   "cell_type": "code",
   "execution_count": 23,
   "id": "binary-tumor",
   "metadata": {},
   "outputs": [
    {
     "name": "stdout",
     "output_type": "stream",
     "text": [
      "Mean absolute percent error: 4.574806171346558\n",
      "Mean absolute error: 3.3887366154917404\n"
     ]
    }
   ],
   "source": [
    "### O2 ###\n",
    "# Recast the training and test data sets into proper pytorch tensors.\n",
    "\n",
    "dataset_train = dataset(x = train_wavelengths, y = O2_train)\n",
    "dataset_test = dataset(x = test_wavelengths, y = O2_test)\n",
    "\n",
    "# Batch size is the number of training examples used to calculate each iteration's gradient\n",
    "batch_size_train = 16\n",
    "\n",
    "# Construct data loader iterables for the training and test data sets.\n",
    "data_loader_train = DataLoader(dataset=dataset_train,batch_size=batch_size_train, shuffle=True)\n",
    "data_loader_test = DataLoader(dataset=dataset_test, batch_size=len(dataset_test), shuffle=False) # No need to batch\n",
    "\n",
    "# run\n",
    "losses, loss_test, y_predict = run(data_loader_train=data_loader_train, data_loader_test=data_loader_test ,\n",
    "                        model_to_test = Linear_2Hidden, width = 200 , weight_decay = 0)\n",
    "O2_pred = y_predict\n",
    "O2_pred = np.reshape(O2_pred, 30000)\n",
    "MAPE_O2 = MAPE(O2_test, O2_pred)\n",
    "MAE_O2 = MAE(O2_test, O2_pred)\n",
    "print(\"Mean absolute percent error:\", MAPE_O2)\n",
    "print(\"Mean absolute error:\", MAE_O2)"
   ]
  },
  {
   "cell_type": "code",
   "execution_count": 24,
   "id": "mathematical-juvenile",
   "metadata": {},
   "outputs": [],
   "source": [
    "# Store DL variables\n",
    "activation_MAPE_BVF = MAPE_BVF\n",
    "activation_MAE_BVF = MAE_BVF\n",
    "activation_MAPE_musp = MAPE_musp\n",
    "activation_MAE_musp = MAE_musp\n",
    "activation_MAPE_B = MAPE_B\n",
    "activation_MAE_B = MAE_B\n",
    "activation_MAPE_Mel = MAPE_Mel\n",
    "activation_MAE_Mel = MAE_Mel\n",
    "activation_MAPE_O2 = MAPE_O2\n",
    "activation_MAE_O2 = MAE_O2"
   ]
  },
  {
   "cell_type": "markdown",
   "id": "lesbian-italy",
   "metadata": {},
   "source": [
    "### Optimizer = SGD"
   ]
  },
  {
   "cell_type": "code",
   "execution_count": 25,
   "id": "killing-correction",
   "metadata": {},
   "outputs": [],
   "source": [
    "\n",
    "# construct a 2 layer network\n",
    "class Linear_2Hidden(nn.Module):\n",
    "    '''\n",
    "    A simple, general purpose, fully connected network\n",
    "    '''\n",
    "    def __init__(self,width):\n",
    "        # Perform initialization of the pytorch superclass\n",
    "        super(Linear_2Hidden, self).__init__()\n",
    "        \n",
    "        # Define network layer dimensions\n",
    "        D_in, H1, H2, D_out = [6, width, width, 1]    # These numbers correspond to each layer: [input, hidden_1, output]\n",
    "        \n",
    "        # Define layer types\n",
    "        self.linear1 = nn.Linear(D_in, H1)\n",
    "        self.linear2 = nn.Linear(H1, H2)\n",
    "        self.linear3 = nn.Linear(H2, D_out)\n",
    "\n",
    "    def forward(self, x):\n",
    "        '''\n",
    "        This method defines the network layering and activation functions\n",
    "        '''\n",
    "        x = self.linear1(x) # hidden layer\n",
    "        x = torch.tanh(x)       # activation function\n",
    "        \n",
    "        x = self.linear2(x) # hidden layer\n",
    "        x = torch.tanh(x)       # activation function\n",
    "        \n",
    "        x = self.linear3(x) # output layer\n",
    "        \n",
    "        return x"
   ]
  },
  {
   "cell_type": "code",
   "execution_count": 26,
   "id": "banner-running",
   "metadata": {},
   "outputs": [],
   "source": [
    "def run(data_loader_train, data_loader_test , model_to_test , width , weight_decay):\n",
    "    \n",
    "    \n",
    "    # Define the hyperparameters\n",
    "    learning_rate = 1e-3\n",
    "    model = model_to_test(width=width)\n",
    "    \n",
    "    # Initialize the optimizer with above parameters\n",
    "    optimizer = optim.SGD(model.parameters(), lr=learning_rate , weight_decay = weight_decay)\n",
    "\n",
    "    # Define the loss function\n",
    "    loss_fn = nn.MSELoss()  # mean squared error\n",
    "\n",
    "    # Train and get the resulting loss per iteration\n",
    "    loss , loss_test = train(model=model, train_loader=data_loader_train , test_loader = data_loader_test, \n",
    "                 optimizer=optimizer, loss_fn=loss_fn)\n",
    "    \n",
    "    # Test and get the resulting predicted y values\n",
    "    y_predict = test(model=model, test_loader=data_loader_test)\n",
    "\n",
    "    return loss , loss_test , y_predict"
   ]
  },
  {
   "cell_type": "code",
   "execution_count": 27,
   "id": "italic-lloyd",
   "metadata": {},
   "outputs": [
    {
     "name": "stdout",
     "output_type": "stream",
     "text": [
      "Mean absolute percent error: 9.21504712332964\n",
      "Mean absolute error: 0.2402497406654946\n"
     ]
    }
   ],
   "source": [
    "### BVF ###\n",
    "# Recast the training and test data sets into proper pytorch tensors.\n",
    "\n",
    "dataset_train = dataset(x = train_wavelengths, y = BVF_train)\n",
    "dataset_test = dataset(x = test_wavelengths, y = BVF_test)\n",
    "\n",
    "# print(\"Train set size: \", dataset_train.length)\n",
    "# print(\"Test set size: \", dataset_test.length)\n",
    "\n",
    "# Batch size is the number of training examples used to calculate each iteration's gradient\n",
    "batch_size_train = 16\n",
    "\n",
    "# Construct data loader iterables for the training and test data sets.\n",
    "data_loader_train = DataLoader(dataset=dataset_train, batch_size=batch_size_train, shuffle=True)\n",
    "data_loader_test = DataLoader(dataset=dataset_test, batch_size=len(dataset_test), shuffle=False) # No need to batch\n",
    "\n",
    "\n",
    "\n",
    "# run\n",
    "losses, loss_test, y_predict = run(data_loader_train=data_loader_train, data_loader_test=data_loader_test ,\n",
    "                        model_to_test = Linear_2Hidden, width = 200 , weight_decay = 0)\n",
    "BVF_pred = y_predict\n",
    "BVF_pred = np.reshape(BVF_pred, 30000)\n",
    "MAPE_BVF = MAPE(BVF_test, BVF_pred)\n",
    "MAE_BVF = MAE(BVF_test, BVF_pred)\n",
    "print(\"Mean absolute percent error:\", MAPE_BVF)\n",
    "print(\"Mean absolute error:\", MAE_BVF)"
   ]
  },
  {
   "cell_type": "code",
   "execution_count": 28,
   "id": "strong-stylus",
   "metadata": {},
   "outputs": [
    {
     "name": "stdout",
     "output_type": "stream",
     "text": [
      "Mean absolute percent error: 12.40938278010279\n",
      "Mean absolute error: 2.582665931578318\n"
     ]
    }
   ],
   "source": [
    "### musp ###\n",
    "# Recast the training and test data sets into proper pytorch tensors.\n",
    "\n",
    "dataset_train = dataset(x = train_wavelengths, y = musp_train)\n",
    "dataset_test = dataset(x = test_wavelengths, y = musp_test)\n",
    "\n",
    "\n",
    "# Batch size is the number of training examples used to calculate each iteration's gradient\n",
    "batch_size_train = 16\n",
    "\n",
    "# Construct data loader iterables for the training and test data sets.\n",
    "data_loader_train = DataLoader(dataset=dataset_train, batch_size=batch_size_train, shuffle=True)\n",
    "data_loader_test = DataLoader(dataset=dataset_test, batch_size=len(dataset_test), shuffle=False) # No need to batch\n",
    "\n",
    "\n",
    "\n",
    "# run\n",
    "losses, loss_test, y_predict = run(data_loader_train=data_loader_train, data_loader_test=data_loader_test ,\n",
    "                        model_to_test = Linear_2Hidden, width = 200 , weight_decay = 0)\n",
    "musp_pred = y_predict\n",
    "musp_pred = np.reshape(musp_pred, 30000)\n",
    "MAPE_musp = MAPE(musp_test, musp_pred)\n",
    "MAE_musp = MAE(musp_test, musp_pred)\n",
    "print(\"Mean absolute percent error:\", MAPE_musp)\n",
    "print(\"Mean absolute error:\", MAE_musp)"
   ]
  },
  {
   "cell_type": "code",
   "execution_count": 29,
   "id": "atmospheric-museum",
   "metadata": {},
   "outputs": [
    {
     "name": "stdout",
     "output_type": "stream",
     "text": [
      "Mean absolute percent error: 16.09740246135767\n",
      "Mean absolute error: 0.2919928414457639\n"
     ]
    }
   ],
   "source": [
    "### B ###\n",
    "# Recast the training and test data sets into proper pytorch tensors.\n",
    "\n",
    "dataset_train = dataset(x = train_wavelengths, y = B_train)\n",
    "dataset_test = dataset(x = test_wavelengths, y = B_test)\n",
    "\n",
    "# Batch size is the number of training examples used to calculate each iteration's gradient\n",
    "batch_size_train = 16\n",
    "\n",
    "# Construct data loader iterables for the training and test data sets.\n",
    "data_loader_train = DataLoader(dataset=dataset_train,batch_size=batch_size_train, shuffle=True)\n",
    "data_loader_test = DataLoader(dataset=dataset_test, batch_size=len(dataset_test), shuffle=False) # No need to batch\n",
    "\n",
    "# run\n",
    "losses, loss_test, y_predict = run(data_loader_train=data_loader_train, data_loader_test=data_loader_test ,\n",
    "                        model_to_test = Linear_2Hidden, width = 200 , weight_decay = 0)\n",
    "B_pred = y_predict\n",
    "B_pred = np.reshape(B_pred, 30000)\n",
    "MAPE_B = MAPE(B_test, B_pred)\n",
    "MAE_B = MAE(B_test, B_pred)\n",
    "print(\"Mean absolute percent error:\", MAPE_B)\n",
    "print(\"Mean absolute error:\", MAE_B)"
   ]
  },
  {
   "cell_type": "code",
   "execution_count": 30,
   "id": "challenging-steam",
   "metadata": {},
   "outputs": [
    {
     "name": "stdout",
     "output_type": "stream",
     "text": [
      "Mean absolute percent error: 16.770000516834457\n",
      "Mean absolute error: 0.14071694263129114\n"
     ]
    }
   ],
   "source": [
    "### Mel ###\n",
    "# Recast the training and test data sets into proper pytorch tensors.\n",
    "\n",
    "dataset_train = dataset(x = train_wavelengths, y = Mel_train)\n",
    "dataset_test = dataset(x = test_wavelengths, y = Mel_test)\n",
    "\n",
    "# Batch size is the number of training examples used to calculate each iteration's gradient\n",
    "batch_size_train = 16\n",
    "\n",
    "# Construct data loader iterables for the training and test data sets.\n",
    "data_loader_train = DataLoader(dataset=dataset_train,batch_size=batch_size_train, shuffle=True)\n",
    "data_loader_test = DataLoader(dataset=dataset_test, batch_size=len(dataset_test), shuffle=False) # No need to batch\n",
    "\n",
    "# run\n",
    "losses, loss_test, y_predict = run(data_loader_train=data_loader_train, data_loader_test=data_loader_test ,\n",
    "                        model_to_test = Linear_2Hidden, width = 200 , weight_decay = 0)\n",
    "Mel_pred = y_predict\n",
    "Mel_pred = np.reshape(Mel_pred, 30000)\n",
    "Mel_pred_new = np.delete(Mel_pred, np.where(Mel_test == 0))\n",
    "Mel_test_new = np.delete(Mel_test, np.where(Mel_test == 0))\n",
    "MAPE_Mel = MAPE(Mel_test_new, Mel_pred_new)\n",
    "MAE_Mel = MAE(Mel_test, Mel_pred)\n",
    "print(\"Mean absolute percent error:\", MAPE_Mel)\n",
    "print(\"Mean absolute error:\", MAE_Mel)"
   ]
  },
  {
   "cell_type": "code",
   "execution_count": 31,
   "id": "latter-citizenship",
   "metadata": {},
   "outputs": [
    {
     "name": "stdout",
     "output_type": "stream",
     "text": [
      "Mean absolute percent error: 6.212571207518987\n",
      "Mean absolute error: 4.786939254547119\n"
     ]
    }
   ],
   "source": [
    "### O2 ###\n",
    "# Recast the training and test data sets into proper pytorch tensors.\n",
    "\n",
    "dataset_train = dataset(x = train_wavelengths, y = O2_train)\n",
    "dataset_test = dataset(x = test_wavelengths, y = O2_test)\n",
    "\n",
    "# Batch size is the number of training examples used to calculate each iteration's gradient\n",
    "batch_size_train = 16\n",
    "\n",
    "# Construct data loader iterables for the training and test data sets.\n",
    "data_loader_train = DataLoader(dataset=dataset_train,batch_size=batch_size_train, shuffle=True)\n",
    "data_loader_test = DataLoader(dataset=dataset_test, batch_size=len(dataset_test), shuffle=False) # No need to batch\n",
    "\n",
    "# run\n",
    "losses, loss_test, y_predict = run(data_loader_train=data_loader_train, data_loader_test=data_loader_test ,\n",
    "                        model_to_test = Linear_2Hidden, width = 200 , weight_decay = 0)\n",
    "O2_pred = y_predict\n",
    "O2_pred = np.reshape(O2_pred, 30000)\n",
    "MAPE_O2 = MAPE(O2_test, O2_pred)\n",
    "MAE_O2 = MAE(O2_test, O2_pred)\n",
    "print(\"Mean absolute percent error:\", MAPE_O2)\n",
    "print(\"Mean absolute error:\", MAE_O2)"
   ]
  },
  {
   "cell_type": "code",
   "execution_count": 32,
   "id": "obvious-relevance",
   "metadata": {},
   "outputs": [],
   "source": [
    "# Store DL variables\n",
    "optim_MAPE_BVF = MAPE_BVF\n",
    "optim_MAE_BVF = MAE_BVF\n",
    "optim_MAPE_musp = MAPE_musp\n",
    "optim_MAE_musp = MAE_musp\n",
    "optim_MAPE_B = MAPE_B\n",
    "optim_MAE_B = MAE_B\n",
    "optim_MAPE_Mel = MAPE_Mel\n",
    "optim_MAE_Mel = MAE_Mel\n",
    "optim_MAPE_O2 = MAPE_O2\n",
    "optim_MAE_O2 = MAE_O2"
   ]
  },
  {
   "cell_type": "markdown",
   "id": "stuffed-worry",
   "metadata": {},
   "source": [
    "### Loss function = L1 loss"
   ]
  },
  {
   "cell_type": "code",
   "execution_count": 33,
   "id": "golden-holder",
   "metadata": {},
   "outputs": [],
   "source": [
    "def run(data_loader_train, data_loader_test , model_to_test , width , weight_decay):\n",
    "    \n",
    "    \n",
    "    # Define the hyperparameters\n",
    "    learning_rate = 1e-3\n",
    "    model = model_to_test(width=width)\n",
    "    \n",
    "    # Initialize the optimizer with above parameters\n",
    "    optimizer = optim.Adam(model.parameters(), lr=learning_rate , weight_decay = weight_decay)\n",
    "\n",
    "    # Define the loss function\n",
    "    loss_fn = nn.L1Loss()  # mean squared error\n",
    "\n",
    "    # Train and get the resulting loss per iteration\n",
    "    loss , loss_test = train(model=model, train_loader=data_loader_train , test_loader = data_loader_test, \n",
    "                 optimizer=optimizer, loss_fn=loss_fn)\n",
    "    \n",
    "    # Test and get the resulting predicted y values\n",
    "    y_predict = test(model=model, test_loader=data_loader_test)\n",
    "\n",
    "    return loss , loss_test , y_predict"
   ]
  },
  {
   "cell_type": "code",
   "execution_count": 34,
   "id": "reflected-fifth",
   "metadata": {},
   "outputs": [],
   "source": [
    "# construct a 2 layer network\n",
    "class Linear_2Hidden(nn.Module):\n",
    "    '''\n",
    "    A simple, general purpose, fully connected network\n",
    "    '''\n",
    "    def __init__(self,width):\n",
    "        # Perform initialization of the pytorch superclass\n",
    "        super(Linear_2Hidden, self).__init__()\n",
    "        \n",
    "        # Define network layer dimensions\n",
    "        D_in, H1, H2, D_out = [6, width, width, 1]    # These numbers correspond to each layer: [input, hidden_1, output]\n",
    "        \n",
    "        # Define layer types\n",
    "        self.linear1 = nn.Linear(D_in, H1)\n",
    "        self.linear2 = nn.Linear(H1, H2)\n",
    "        self.linear3 = nn.Linear(H2, D_out)\n",
    "\n",
    "    def forward(self, x):\n",
    "        '''\n",
    "        This method defines the network layering and activation functions\n",
    "        '''\n",
    "        x = self.linear1(x) # hidden layer\n",
    "        x = torch.tanh(x)       # activation function\n",
    "        \n",
    "        x = self.linear2(x) # hidden layer\n",
    "        x = torch.tanh(x)       # activation function\n",
    "        \n",
    "        x = self.linear3(x) # output layer\n",
    "        \n",
    "        return x"
   ]
  },
  {
   "cell_type": "code",
   "execution_count": 35,
   "id": "modern-sword",
   "metadata": {},
   "outputs": [
    {
     "name": "stderr",
     "output_type": "stream",
     "text": [
      "c:\\users\\mayna\\appdata\\local\\programs\\python\\python39\\lib\\site-packages\\torch\\nn\\modules\\loss.py:94: UserWarning: Using a target size (torch.Size([30000])) that is different to the input size (torch.Size([30000, 1])). This will likely lead to incorrect results due to broadcasting. Please ensure they have the same size.\n",
      "  return F.l1_loss(input, target, reduction=self.reduction)\n"
     ]
    },
    {
     "name": "stdout",
     "output_type": "stream",
     "text": [
      "Mean absolute percent error: 5.010424494943713\n",
      "Mean absolute error: 0.1385726077918402\n"
     ]
    }
   ],
   "source": [
    "### BVF ###\n",
    "# Recast the training and test data sets into proper pytorch tensors.\n",
    "\n",
    "dataset_train = dataset(x = train_wavelengths, y = BVF_train)\n",
    "dataset_test = dataset(x = test_wavelengths, y = BVF_test)\n",
    "\n",
    "# print(\"Train set size: \", dataset_train.length)\n",
    "# print(\"Test set size: \", dataset_test.length)\n",
    "\n",
    "# Batch size is the number of training examples used to calculate each iteration's gradient\n",
    "batch_size_train = 16\n",
    "\n",
    "# Construct data loader iterables for the training and test data sets.\n",
    "data_loader_train = DataLoader(dataset=dataset_train, batch_size=batch_size_train, shuffle=True)\n",
    "data_loader_test = DataLoader(dataset=dataset_test, batch_size=len(dataset_test), shuffle=False) # No need to batch\n",
    "\n",
    "\n",
    "\n",
    "# run\n",
    "losses, loss_test, y_predict = run(data_loader_train=data_loader_train, data_loader_test=data_loader_test ,\n",
    "                        model_to_test = Linear_2Hidden, width = 200 , weight_decay = 0)\n",
    "BVF_pred = y_predict\n",
    "BVF_pred = np.reshape(BVF_pred, 30000)\n",
    "MAPE_BVF = MAPE(BVF_test, BVF_pred)\n",
    "MAE_BVF = MAE(BVF_test, BVF_pred)\n",
    "print(\"Mean absolute percent error:\", MAPE_BVF)\n",
    "print(\"Mean absolute error:\", MAE_BVF)"
   ]
  },
  {
   "cell_type": "code",
   "execution_count": 36,
   "id": "polish-manhattan",
   "metadata": {},
   "outputs": [
    {
     "name": "stdout",
     "output_type": "stream",
     "text": [
      "Mean absolute percent error: 5.324981684329296\n",
      "Mean absolute error: 1.0118080839557648\n"
     ]
    }
   ],
   "source": [
    "### musp ###\n",
    "# Recast the training and test data sets into proper pytorch tensors.\n",
    "\n",
    "dataset_train = dataset(x = train_wavelengths, y = musp_train)\n",
    "dataset_test = dataset(x = test_wavelengths, y = musp_test)\n",
    "\n",
    "\n",
    "# Batch size is the number of training examples used to calculate each iteration's gradient\n",
    "batch_size_train = 16\n",
    "\n",
    "# Construct data loader iterables for the training and test data sets.\n",
    "data_loader_train = DataLoader(dataset=dataset_train, batch_size=batch_size_train, shuffle=True)\n",
    "data_loader_test = DataLoader(dataset=dataset_test, batch_size=len(dataset_test), shuffle=False) # No need to batch\n",
    "\n",
    "\n",
    "\n",
    "# run\n",
    "losses, loss_test, y_predict = run(data_loader_train=data_loader_train, data_loader_test=data_loader_test ,\n",
    "                        model_to_test = Linear_2Hidden, width = 200 , weight_decay = 0)\n",
    "musp_pred = y_predict\n",
    "musp_pred = np.reshape(musp_pred, 30000)\n",
    "MAPE_musp = MAPE(musp_test, musp_pred)\n",
    "MAE_musp = MAE(musp_test, musp_pred)\n",
    "print(\"Mean absolute percent error:\", MAPE_musp)\n",
    "print(\"Mean absolute error:\", MAE_musp)"
   ]
  },
  {
   "cell_type": "code",
   "execution_count": 37,
   "id": "offshore-fundamental",
   "metadata": {},
   "outputs": [
    {
     "name": "stdout",
     "output_type": "stream",
     "text": [
      "Mean absolute percent error: 7.102751896551923\n",
      "Mean absolute error: 0.13124454184384662\n"
     ]
    }
   ],
   "source": [
    "### B ###\n",
    "# Recast the training and test data sets into proper pytorch tensors.\n",
    "\n",
    "dataset_train = dataset(x = train_wavelengths, y = B_train)\n",
    "dataset_test = dataset(x = test_wavelengths, y = B_test)\n",
    "\n",
    "# Batch size is the number of training examples used to calculate each iteration's gradient\n",
    "batch_size_train = 16\n",
    "\n",
    "# Construct data loader iterables for the training and test data sets.\n",
    "data_loader_train = DataLoader(dataset=dataset_train,batch_size=batch_size_train, shuffle=True)\n",
    "data_loader_test = DataLoader(dataset=dataset_test, batch_size=len(dataset_test), shuffle=False) # No need to batch\n",
    "\n",
    "# run\n",
    "losses, loss_test, y_predict = run(data_loader_train=data_loader_train, data_loader_test=data_loader_test ,\n",
    "                        model_to_test = Linear_2Hidden, width = 200 , weight_decay = 0)\n",
    "B_pred = y_predict\n",
    "B_pred = np.reshape(B_pred, 30000)\n",
    "MAPE_B = MAPE(B_test, B_pred)\n",
    "MAE_B = MAE(B_test, B_pred)\n",
    "print(\"Mean absolute percent error:\", MAPE_B)\n",
    "print(\"Mean absolute error:\", MAE_B)"
   ]
  },
  {
   "cell_type": "code",
   "execution_count": 38,
   "id": "adopted-arnold",
   "metadata": {},
   "outputs": [
    {
     "name": "stdout",
     "output_type": "stream",
     "text": [
      "Mean absolute percent error: 8.127907520215155\n",
      "Mean absolute error: 0.07007454558843665\n"
     ]
    }
   ],
   "source": [
    "### Mel ###\n",
    "# Recast the training and test data sets into proper pytorch tensors.\n",
    "\n",
    "dataset_train = dataset(x = train_wavelengths, y = Mel_train)\n",
    "dataset_test = dataset(x = test_wavelengths, y = Mel_test)\n",
    "\n",
    "# Batch size is the number of training examples used to calculate each iteration's gradient\n",
    "batch_size_train = 16\n",
    "\n",
    "# Construct data loader iterables for the training and test data sets.\n",
    "data_loader_train = DataLoader(dataset=dataset_train,batch_size=batch_size_train, shuffle=True)\n",
    "data_loader_test = DataLoader(dataset=dataset_test, batch_size=len(dataset_test), shuffle=False) # No need to batch\n",
    "\n",
    "# run\n",
    "losses, loss_test, y_predict = run(data_loader_train=data_loader_train, data_loader_test=data_loader_test ,\n",
    "                        model_to_test = Linear_2Hidden, width = 200 , weight_decay = 0)\n",
    "Mel_pred = y_predict\n",
    "Mel_pred = np.reshape(Mel_pred, 30000)\n",
    "Mel_pred_new = np.delete(Mel_pred, np.where(Mel_test == 0))\n",
    "Mel_test_new = np.delete(Mel_test, np.where(Mel_test == 0))\n",
    "MAPE_Mel = MAPE(Mel_test_new, Mel_pred_new)\n",
    "MAE_Mel = MAE(Mel_test, Mel_pred)\n",
    "print(\"Mean absolute percent error:\", MAPE_Mel)\n",
    "print(\"Mean absolute error:\", MAE_Mel)"
   ]
  },
  {
   "cell_type": "code",
   "execution_count": 39,
   "id": "turned-catch",
   "metadata": {},
   "outputs": [
    {
     "name": "stdout",
     "output_type": "stream",
     "text": [
      "Mean absolute percent error: 3.76161292650809\n",
      "Mean absolute error: 2.8805162584045414\n"
     ]
    }
   ],
   "source": [
    "### O2 ###\n",
    "# Recast the training and test data sets into proper pytorch tensors.\n",
    "\n",
    "dataset_train = dataset(x = train_wavelengths, y = O2_train)\n",
    "dataset_test = dataset(x = test_wavelengths, y = O2_test)\n",
    "\n",
    "# Batch size is the number of training examples used to calculate each iteration's gradient\n",
    "batch_size_train = 16\n",
    "\n",
    "# Construct data loader iterables for the training and test data sets.\n",
    "data_loader_train = DataLoader(dataset=dataset_train,batch_size=batch_size_train, shuffle=True)\n",
    "data_loader_test = DataLoader(dataset=dataset_test, batch_size=len(dataset_test), shuffle=False) # No need to batch\n",
    "\n",
    "# run\n",
    "losses, loss_test, y_predict = run(data_loader_train=data_loader_train, data_loader_test=data_loader_test ,\n",
    "                        model_to_test = Linear_2Hidden, width = 200 , weight_decay = 0)\n",
    "O2_pred = y_predict\n",
    "O2_pred = np.reshape(O2_pred, 30000)\n",
    "MAPE_O2 = MAPE(O2_test, O2_pred)\n",
    "MAE_O2 = MAE(O2_test, O2_pred)\n",
    "print(\"Mean absolute percent error:\", MAPE_O2)\n",
    "print(\"Mean absolute error:\", MAE_O2)"
   ]
  },
  {
   "cell_type": "code",
   "execution_count": 40,
   "id": "beneficial-singapore",
   "metadata": {},
   "outputs": [],
   "source": [
    "# Store DL variables\n",
    "loss_MAPE_BVF = MAPE_BVF\n",
    "loss_MAE_BVF = MAE_BVF\n",
    "loss_MAPE_musp = MAPE_musp\n",
    "loss_MAE_musp = MAE_musp\n",
    "loss_MAPE_B = MAPE_B\n",
    "loss_MAE_B = MAE_B\n",
    "loss_MAPE_Mel = MAPE_Mel\n",
    "loss_MAE_Mel = MAE_Mel\n",
    "loss_MAPE_O2 = MAPE_O2\n",
    "loss_MAE_O2 = MAE_O2"
   ]
  },
  {
   "cell_type": "markdown",
   "id": "generous-movement",
   "metadata": {},
   "source": [
    "### 3 layer"
   ]
  },
  {
   "cell_type": "code",
   "execution_count": 41,
   "id": "medieval-popularity",
   "metadata": {},
   "outputs": [],
   "source": [
    "\n",
    "# construct a 3 layer network\n",
    "class Linear_3Hidden(nn.Module):\n",
    "    '''\n",
    "    A simple, general purpose, fully connected network\n",
    "    '''\n",
    "    def __init__(self,width):\n",
    "        # Perform initialization of the pytorch superclass\n",
    "        super(Linear_3Hidden, self).__init__()\n",
    "        \n",
    "        # Define network layer dimensions\n",
    "        D_in, H1, H2, H3, D_out = [6, width, width, width, 1]    # These numbers correspond to each layer: [input, hidden_1, output]\n",
    "        \n",
    "        # Define layer types\n",
    "        self.linear1 = nn.Linear(D_in, H1)\n",
    "        self.linear2 = nn.Linear(H1, H2)\n",
    "        self.linear3 = nn.Linear(H2, H3)\n",
    "        self.linear4 = nn.Linear(H2, D_out)\n",
    "\n",
    "    def forward(self, x):\n",
    "        '''\n",
    "        This method defines the network layering and activation functions\n",
    "        '''\n",
    "        x = self.linear1(x) # hidden layer\n",
    "        x = torch.tanh(x)       # activation function\n",
    "        \n",
    "        x = self.linear2(x) # hidden layer\n",
    "        x = torch.tanh(x)       # activation function\n",
    "        \n",
    "        x = self.linear3(x) # output layer\n",
    "        x = torch.tanh(x)       # activation function\n",
    "        \n",
    "        x = self.linear4(x) # output layer\n",
    "        \n",
    "        return x"
   ]
  },
  {
   "cell_type": "code",
   "execution_count": 42,
   "id": "deluxe-warrior",
   "metadata": {},
   "outputs": [],
   "source": [
    "def run(data_loader_train, data_loader_test , model_to_test , width , weight_decay):\n",
    "    \n",
    "    \n",
    "    # Define the hyperparameters\n",
    "    learning_rate = 1e-3\n",
    "    model = model_to_test(width=width)\n",
    "    \n",
    "    # Initialize the optimizer with above parameters\n",
    "    optimizer = optim.Adam(model.parameters(), lr=learning_rate , weight_decay = weight_decay)\n",
    "\n",
    "    # Define the loss function\n",
    "    loss_fn = nn.MSELoss()  # mean squared error\n",
    "\n",
    "    # Train and get the resulting loss per iteration\n",
    "    loss , loss_test = train(model=model, train_loader=data_loader_train , test_loader = data_loader_test, \n",
    "                 optimizer=optimizer, loss_fn=loss_fn)\n",
    "    \n",
    "    # Test and get the resulting predicted y values\n",
    "    y_predict = test(model=model, test_loader=data_loader_test)\n",
    "\n",
    "    return loss , loss_test , y_predict"
   ]
  },
  {
   "cell_type": "code",
   "execution_count": 43,
   "id": "smooth-class",
   "metadata": {},
   "outputs": [
    {
     "name": "stdout",
     "output_type": "stream",
     "text": [
      "Mean absolute percent error: 4.308949763645162\n",
      "Mean absolute error: 0.11792087941714284\n"
     ]
    }
   ],
   "source": [
    "### BVF ###\n",
    "# Recast the training and test data sets into proper pytorch tensors.\n",
    "\n",
    "dataset_train = dataset(x = train_wavelengths, y = BVF_train)\n",
    "dataset_test = dataset(x = test_wavelengths, y = BVF_test)\n",
    "\n",
    "# print(\"Train set size: \", dataset_train.length)\n",
    "# print(\"Test set size: \", dataset_test.length)\n",
    "\n",
    "# Batch size is the number of training examples used to calculate each iteration's gradient\n",
    "batch_size_train = 16\n",
    "\n",
    "# Construct data loader iterables for the training and test data sets.\n",
    "data_loader_train = DataLoader(dataset=dataset_train, batch_size=batch_size_train, shuffle=True)\n",
    "data_loader_test = DataLoader(dataset=dataset_test, batch_size=len(dataset_test), shuffle=False) # No need to batch\n",
    "\n",
    "\n",
    "\n",
    "# run\n",
    "losses, loss_test, y_predict = run(data_loader_train=data_loader_train, data_loader_test=data_loader_test ,\n",
    "                        model_to_test = Linear_3Hidden, width = 200 , weight_decay = 0)\n",
    "BVF_pred = y_predict\n",
    "BVF_pred = np.reshape(BVF_pred, 30000)\n",
    "MAPE_BVF = MAPE(BVF_test, BVF_pred)\n",
    "MAE_BVF = MAE(BVF_test, BVF_pred)\n",
    "print(\"Mean absolute percent error:\", MAPE_BVF)\n",
    "print(\"Mean absolute error:\", MAE_BVF)"
   ]
  },
  {
   "cell_type": "code",
   "execution_count": 44,
   "id": "leading-sally",
   "metadata": {},
   "outputs": [
    {
     "name": "stdout",
     "output_type": "stream",
     "text": [
      "Mean absolute percent error: 5.081618116188605\n",
      "Mean absolute error: 0.9366752084828694\n"
     ]
    }
   ],
   "source": [
    "### musp ###\n",
    "# Recast the training and test data sets into proper pytorch tensors.\n",
    "\n",
    "dataset_train = dataset(x = train_wavelengths, y = musp_train)\n",
    "dataset_test = dataset(x = test_wavelengths, y = musp_test)\n",
    "\n",
    "\n",
    "# Batch size is the number of training examples used to calculate each iteration's gradient\n",
    "batch_size_train = 16\n",
    "\n",
    "# Construct data loader iterables for the training and test data sets.\n",
    "data_loader_train = DataLoader(dataset=dataset_train, batch_size=batch_size_train, shuffle=True)\n",
    "data_loader_test = DataLoader(dataset=dataset_test, batch_size=len(dataset_test), shuffle=False) # No need to batch\n",
    "\n",
    "\n",
    "\n",
    "# run\n",
    "losses, loss_test, y_predict = run(data_loader_train=data_loader_train, data_loader_test=data_loader_test ,\n",
    "                        model_to_test = Linear_3Hidden, width = 200 , weight_decay = 0)\n",
    "musp_pred = y_predict\n",
    "musp_pred = np.reshape(musp_pred, 30000)\n",
    "MAPE_musp = MAPE(musp_test, musp_pred)\n",
    "MAE_musp = MAE(musp_test, musp_pred)\n",
    "print(\"Mean absolute percent error:\", MAPE_musp)\n",
    "print(\"Mean absolute error:\", MAE_musp)"
   ]
  },
  {
   "cell_type": "code",
   "execution_count": 45,
   "id": "timely-failing",
   "metadata": {},
   "outputs": [
    {
     "name": "stdout",
     "output_type": "stream",
     "text": [
      "Mean absolute percent error: 7.55008802879265\n",
      "Mean absolute error: 0.13993468875493048\n"
     ]
    }
   ],
   "source": [
    "### B ###\n",
    "# Recast the training and test data sets into proper pytorch tensors.\n",
    "\n",
    "dataset_train = dataset(x = train_wavelengths, y = B_train)\n",
    "dataset_test = dataset(x = test_wavelengths, y = B_test)\n",
    "\n",
    "# Batch size is the number of training examples used to calculate each iteration's gradient\n",
    "batch_size_train = 16\n",
    "\n",
    "# Construct data loader iterables for the training and test data sets.\n",
    "data_loader_train = DataLoader(dataset=dataset_train,batch_size=batch_size_train, shuffle=True)\n",
    "data_loader_test = DataLoader(dataset=dataset_test, batch_size=len(dataset_test), shuffle=False) # No need to batch\n",
    "\n",
    "# run\n",
    "losses, loss_test, y_predict = run(data_loader_train=data_loader_train, data_loader_test=data_loader_test ,\n",
    "                        model_to_test = Linear_3Hidden, width = 200 , weight_decay = 0)\n",
    "B_pred = y_predict\n",
    "B_pred = np.reshape(B_pred, 30000)\n",
    "MAPE_B = MAPE(B_test, B_pred)\n",
    "MAE_B = MAE(B_test, B_pred)\n",
    "print(\"Mean absolute percent error:\", MAPE_B)\n",
    "print(\"Mean absolute error:\", MAE_B)"
   ]
  },
  {
   "cell_type": "code",
   "execution_count": 46,
   "id": "through-athens",
   "metadata": {},
   "outputs": [
    {
     "name": "stdout",
     "output_type": "stream",
     "text": [
      "Mean absolute percent error: 6.907444885615206\n",
      "Mean absolute error: 0.057981358202310956\n"
     ]
    }
   ],
   "source": [
    "### Mel ###\n",
    "# Recast the training and test data sets into proper pytorch tensors.\n",
    "\n",
    "dataset_train = dataset(x = train_wavelengths, y = Mel_train)\n",
    "dataset_test = dataset(x = test_wavelengths, y = Mel_test)\n",
    "\n",
    "# Batch size is the number of training examples used to calculate each iteration's gradient\n",
    "batch_size_train = 16\n",
    "\n",
    "# Construct data loader iterables for the training and test data sets.\n",
    "data_loader_train = DataLoader(dataset=dataset_train,batch_size=batch_size_train, shuffle=True)\n",
    "data_loader_test = DataLoader(dataset=dataset_test, batch_size=len(dataset_test), shuffle=False) # No need to batch\n",
    "\n",
    "# run\n",
    "losses, loss_test, y_predict = run(data_loader_train=data_loader_train, data_loader_test=data_loader_test ,\n",
    "                        model_to_test = Linear_3Hidden, width = 200 , weight_decay = 0)\n",
    "Mel_pred = y_predict\n",
    "Mel_pred = np.reshape(Mel_pred, 30000)\n",
    "Mel_pred_new = np.delete(Mel_pred, np.where(Mel_test == 0))\n",
    "Mel_test_new = np.delete(Mel_test, np.where(Mel_test == 0))\n",
    "MAPE_Mel = MAPE(Mel_test_new, Mel_pred_new)\n",
    "MAE_Mel = MAE(Mel_test, Mel_pred)\n",
    "print(\"Mean absolute percent error:\", MAPE_Mel)\n",
    "print(\"Mean absolute error:\", MAE_Mel)"
   ]
  },
  {
   "cell_type": "code",
   "execution_count": 47,
   "id": "first-torture",
   "metadata": {},
   "outputs": [
    {
     "name": "stdout",
     "output_type": "stream",
     "text": [
      "Mean absolute percent error: 14.631384537566305\n",
      "Mean absolute error: 11.126042918103025\n"
     ]
    }
   ],
   "source": [
    "### O2 ###\n",
    "# Recast the training and test data sets into proper pytorch tensors.\n",
    "\n",
    "dataset_train = dataset(x = train_wavelengths, y = O2_train)\n",
    "dataset_test = dataset(x = test_wavelengths, y = O2_test)\n",
    "\n",
    "# Batch size is the number of training examples used to calculate each iteration's gradient\n",
    "batch_size_train = 16\n",
    "\n",
    "# Construct data loader iterables for the training and test data sets.\n",
    "data_loader_train = DataLoader(dataset=dataset_train,batch_size=batch_size_train, shuffle=True)\n",
    "data_loader_test = DataLoader(dataset=dataset_test, batch_size=len(dataset_test), shuffle=False) # No need to batch\n",
    "\n",
    "# run\n",
    "losses, loss_test, y_predict = run(data_loader_train=data_loader_train, data_loader_test=data_loader_test ,\n",
    "                        model_to_test = Linear_3Hidden, width = 200 , weight_decay = 0)\n",
    "O2_pred = y_predict\n",
    "O2_pred = np.reshape(O2_pred, 30000)\n",
    "MAPE_O2 = MAPE(O2_test, O2_pred)\n",
    "MAE_O2 = MAE(O2_test, O2_pred)\n",
    "print(\"Mean absolute percent error:\", MAPE_O2)\n",
    "print(\"Mean absolute error:\", MAE_O2)"
   ]
  },
  {
   "cell_type": "code",
   "execution_count": 48,
   "id": "focused-talent",
   "metadata": {},
   "outputs": [],
   "source": [
    "# Store DL variables\n",
    "threelayer_MAPE_BVF = MAPE_BVF\n",
    "threelayer_MAE_BVF = MAE_BVF\n",
    "threelayer_MAPE_musp = MAPE_musp\n",
    "threelayer_MAE_musp = MAE_musp\n",
    "threelayer_MAPE_B = MAPE_B\n",
    "threelayer_MAE_B = MAE_B\n",
    "threelayer_MAPE_Mel = MAPE_Mel\n",
    "threelayer_MAE_Mel = MAE_Mel\n",
    "threelayer_MAPE_O2 = MAPE_O2\n",
    "threelayer_MAE_O2 = MAE_O2"
   ]
  },
  {
   "cell_type": "markdown",
   "id": "eastern-thought",
   "metadata": {},
   "source": [
    "# Plot errors"
   ]
  },
  {
   "cell_type": "code",
   "execution_count": 51,
   "id": "sophisticated-suggestion",
   "metadata": {},
   "outputs": [
    {
     "data": {
      "image/png": "[encoded data removed]",
      "text/plain": [
       "<Figure size 432x288 with 1 Axes>"
      ]
     },
     "metadata": {
      "needs_background": "light"
     },
     "output_type": "display_data"
    }
   ],
   "source": [
    "labels = ['BVF', 'musp', 'B', 'Mel', 'O2']\n",
    "DL = [DL_MAE_BVF,DL_MAE_musp,DL_MAE_B,DL_MAE_Mel,DL_MAE_O2] # original\n",
    "activation = [activation_MAE_BVF,activation_MAE_musp,activation_MAE_B,activation_MAE_Mel,activation_MAE_O2]\n",
    "optim = [optim_MAE_BVF,optim_MAE_musp,optim_MAE_B,optim_MAE_Mel,optim_MAE_O2]\n",
    "lossfn = [loss_MAE_BVF,loss_MAE_musp,loss_MAE_B,loss_MAE_Mel,loss_MAE_O2]\n",
    "threelayer = [threelayer_MAE_BVF,threelayer_MAE_musp,threelayer_MAE_B,threelayer_MAE_Mel,threelayer_MAE_O2]\n",
    "\n",
    "x = np.arange(len(labels))  # the label locations\n",
    "width = 0.35  # the width of the bars\n",
    "\n",
    "fig, ax = plt.subplots()\n",
    "rects1 = ax.bar(x - width, DL, width/2, label='DL')\n",
    "rects2 = ax.bar(x - width/2, activation, width/2, label='activation')\n",
    "rects3 = ax.bar(x , optim, width/2, label='optim')\n",
    "rects4 = ax.bar(x + width/2, lossfn, width/2, label='loss')\n",
    "rects4 = ax.bar(x + width, threelayer, width/2, label='3layer')\n",
    "\n",
    "# Add some text for labels, title and custom x-axis tick labels, etc.\n",
    "ax.set_ylabel('Mean absolute error')\n",
    "#ax.set_title('Scores by group and gender')\n",
    "ax.set_xticks(x)\n",
    "ax.set_xticklabels(labels)\n",
    "ax.legend()\n",
    "\n",
    "\n",
    "fig.tight_layout()\n",
    "\n",
    "plt.show()"
   ]
  },
  {
   "cell_type": "code",
   "execution_count": null,
   "id": "angry-vermont",
   "metadata": {},
   "outputs": [],
   "source": []
  }
 ],
 "metadata": {
  "kernelspec": {
   "display_name": "Python 3",
   "language": "python",
   "name": "python3"
  },
  "language_info": {
   "codemirror_mode": {
    "name": "ipython",
    "version": 3
   },
   "file_extension": ".py",
   "mimetype": "text/x-python",
   "name": "python",
   "nbconvert_exporter": "python",
   "pygments_lexer": "ipython3",
   "version": "3.9.1"
  }
 },
 "nbformat": 4,
 "nbformat_minor": 5
}
